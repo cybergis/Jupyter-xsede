{
 "cells": [
  {
   "cell_type": "markdown",
   "metadata": {},
   "source": [
    "# Run ensemble Summa model on HPC"
   ]
  },
  {
   "cell_type": "markdown",
   "metadata": {},
   "source": [
    "Structure for Unifying Multiple Modeling Alternative [(SUMMA)](https://ral.ucar.edu/projects/summa) is a hydrologic modeling approach that is built on a common set of conservation equations and a common numerical solver, which together constitute the structural core of the model. Different modeling approaches can then be implemented within the structural core, enabling a controlled and systematic analysis of alternative modeling options, and providing insight for future model development.\n",
    "\n",
    "This notebook demonstrates how to harmonize different libraries and tools provided in the CyberGIS-Jupyter environment to run a 75-member ensemble SUMMA model with a High Performance Computer (HPC) resource. The SUMMA model instance and data used in this notebook were adapted from a part of the Clark et al., (2015) study, and explored the impact of different stomatal resistance parameterizations on total evapotranspiration (ET) in the Reynolds Mountain East catchment in southwestern Idaho.\n",
    "\n",
    "Clark, M. P., B. Nijssen, J. Lundquist, D. Kavetski, D. Rupp, R. Woods, E. Gutmann, A. Wood, D. Gochis, R. Rasmussen, D. Tarboton, V. Mahat, G. Flerchinger, and D. Marks, 2015: A unified approach for process-based hydrologic modeling: Part 2. Model implementation and example applications. Water Resources Research, 51, doi: 10.1002/2015WR017200\n"
   ]
  },
  {
   "cell_type": "markdown",
   "metadata": {},
   "source": [
    "# Notebook Outline\n",
    "- [Retrieve Resources](#resources)\n",
    "- [Unzip model instance package](#unzip)\n",
    "- [Install SUMMA model](#install)\n",
    "- [Use PySumma to build ensembles](#build)\n",
    "- [Submit model](#submit)\n",
    "- [Check model output](#check)\n",
    "- [Plot the output](#plot)\n",
    "    - [Leaf Area Index & ET](#LAI)\n",
    "    - [stomatal resistance & ET](#stomatal)\n",
    "- [Cleanup](#cleanup)"
   ]
  },
  {
   "cell_type": "markdown",
   "metadata": {},
   "source": [
    "<a id='resources'></a>\n",
    "## Retrieve a Summa model instance resource from HydroShare"
   ]
  },
  {
   "cell_type": "markdown",
   "metadata": {},
   "source": [
    "This is the resource id of a HydroShare composite resource that contains a SUMMA model instance/. For more info on this resource please refer to https://www.hydroshare.org/resource/1f3f310af8364d2aa3e6a9459152a21c/)"
   ]
  },
  {
   "cell_type": "code",
   "execution_count": null,
   "metadata": {},
   "outputs": [],
   "source": [
    "resource_id = '1f3f310af8364d2aa3e6a9459152a21c'"
   ]
  },
  {
   "cell_type": "markdown",
   "metadata": {},
   "source": [
    "We use HydroShare REST API Python client (hs_restclient) to retrieve the above resource onto the notebook server"
   ]
  },
  {
   "cell_type": "code",
   "execution_count": null,
   "metadata": {},
   "outputs": [],
   "source": [
    "import json\n",
    "import os\n",
    "from hs_restclient import HydroShare, HydroShareAuthBasic\n",
    "auth = HydroShareAuthBasic(\"cybergis\", \"demo\")\n",
    "hs = HydroShare(auth=auth)\n",
    "base_dir = os.path.abspath('/home/jovyan/work')\n",
    "download_dir = os.path.join(base_dir, 'Downloads')\n",
    "!mkdir -p {download_dir}\n",
    "hs.getResource(resource_id, destination=download_dir, unzip=True)"
   ]
  },
  {
   "cell_type": "markdown",
   "metadata": {},
   "source": [
    "<a id='unzip'></a>\n",
    "## Unzip model instance package"
   ]
  },
  {
   "cell_type": "markdown",
   "metadata": {},
   "source": [
    "Create a temporary local folder and unzip the summa instance"
   ]
  },
  {
   "cell_type": "code",
   "execution_count": null,
   "metadata": {},
   "outputs": [],
   "source": [
    "import os\n",
    "#Unzip model file\n",
    "model_folder_name = \"SummaModel_ReynoldsAspenStand_StomatalResistance_sopron\"\n",
    "content_folder = os.path.join(download_dir ,\"{}/{}/data/contents\".format(resource_id, resource_id))\n",
    "file_manger_rel_path = \"settings/summa_fileManager_riparianAspenSimpleResistance.txt\"\n",
    "import tempfile\n",
    "workspace_dir = os.path.join(base_dir, 'workspace')\n",
    "!mkdir -p {workspace_dir}\n",
    "unzip_dir = tempfile.mkdtemp(dir=workspace_dir)\n",
    "!cd {content_folder} && unzip -o {model_folder_name}.zip -d {unzip_dir}\n",
    "print(\"Unzipping Done\")"
   ]
  },
  {
   "cell_type": "markdown",
   "metadata": {},
   "source": [
    "<a id='install'></a>\n",
    "## \"Install\" SUMMA model on Jupyter server (fix broken path in summa file_manager)"
   ]
  },
  {
   "cell_type": "markdown",
   "metadata": {},
   "source": [
    "By default, the file_manager file of the Summa instance does not contain local path. Need to use script to install it locally."
   ]
  },
  {
   "cell_type": "code",
   "execution_count": null,
   "metadata": {},
   "outputs": [],
   "source": [
    "model_source_folder_path = os.path.join(unzip_dir, model_folder_name)\n",
    "!cd {model_source_folder_path} && chmod +x ./installTestCases_local.sh\n",
    "!cd {model_source_folder_path} && ./installTestCases_local.sh"
   ]
  },
  {
   "cell_type": "markdown",
   "metadata": {},
   "source": [
    "<a id='build'></a>\n",
    "## Use PySumma to build ensembles"
   ]
  },
  {
   "cell_type": "markdown",
   "metadata": {},
   "source": [
    "We create an empty \"summa_zParamTrial_riparianAspen.nc\" file so later we can do ensemble analysis on parameters"
   ]
  },
  {
   "cell_type": "code",
   "execution_count": null,
   "metadata": {},
   "outputs": [],
   "source": [
    "# Create a empty ParamTrial.nc file (required by parameter ensemble)\n",
    "import netCDF4 as nc\n",
    "name = os.path.join(model_source_folder_path, 'settings/summa_zParamTrial_riparianAspen.nc')\n",
    "print(name)\n",
    "param_trial = nc.Dataset(name, \"w\", format=\"NETCDF3_CLASSIC\")\n",
    "param_trial.createDimension(\"hru\", 1)\n",
    "param_trial.close()"
   ]
  },
  {
   "cell_type": "markdown",
   "metadata": {},
   "source": [
    "Build the ensemble cases: here we create a combination of different stomResist types, rootDistExp values and summerLAI values with help from PySumma. The total ensemble number is 75. We then save the 75 cases into a json file named \"summa_options.json\""
   ]
  },
  {
   "cell_type": "code",
   "execution_count": null,
   "metadata": {},
   "outputs": [],
   "source": [
    "import numpy as np\n",
    "import json\n",
    "from pysumma import ensemble\n",
    "\n",
    "def safe_arange(start, stop, step):\n",
    "    a = np.arange(start, stop, step)\n",
    "    result =[]\n",
    "    for i in a:\n",
    "        par = round(i, 10)\n",
    "        result = np.append(result, par)\n",
    "    return result\n",
    "\n",
    "# create ensemble\n",
    "# different parameterizations\n",
    "decision_options = {\n",
    "    \"stomResist\": [\"BallBerry\", \"Jarvis\", \"simpleResistance\"]\n",
    "}\n",
    "# different parameters\n",
    "param_options = {\n",
    "   'rootDistExp': safe_arange(0.01, 1.00, 0.20),\n",
    "   'summerLAI': safe_arange(0.01, 10.00, 2.00)\n",
    "}\n",
    "\n",
    "config = ensemble.total_product(dec_conf=decision_options, param_conf=param_options)\n",
    "\n",
    "# save ensemble info to json file\n",
    "with open(os.path.join(model_source_folder_path, 'summa_options.json'), 'w') as outfile:\n",
    "    json.dump(config, outfile)\n",
    "\n",
    "# check ensemble parameters    \n",
    "print(\"Number of ensemble runs: {}\".format(len(config)))\n",
    "print(json.dumps(config, indent=4, sort_keys=True)[:800])\n",
    "print(\"...\")"
   ]
  },
  {
   "cell_type": "markdown",
   "metadata": {},
   "source": [
    "<a id='submit'></a>\n",
    "## Submit model to XSEDE Comet HPC using CyberGIS-Jupyter tool"
   ]
  },
  {
   "cell_type": "markdown",
   "metadata": {},
   "source": [
    "We use cybergis lib to submit the model to HPC as a job"
   ]
  },
  {
   "cell_type": "code",
   "execution_count": null,
   "metadata": {},
   "outputs": [],
   "source": [
    "from cybergis import summaUI\n",
    "\n",
    "s = summaUI(model_source_folder_path, file_manger_rel_path, \n",
    "            workspace_dir)"
   ]
  },
  {
   "cell_type": "markdown",
   "metadata": {},
   "source": [
    "Walltime (hour) is the maximum duration of time the job is allowed to run on the HPC before it gets killed.\n",
    "Nodes indicate the number of CPU cores will be allocated for this job. CyberGIS lib will run the job over the assigned CPUs in parallel. If you select 16 nodes, then each node will run about 4-5 cases out of the 75-member ensemble"
   ]
  },
  {
   "cell_type": "code",
   "execution_count": null,
   "metadata": {},
   "outputs": [],
   "source": [
    "s.runSumma()"
   ]
  },
  {
   "cell_type": "markdown",
   "metadata": {},
   "source": [
    "<a id='check'></a>\n",
    "## Check model output  -- NetCDF files"
   ]
  },
  {
   "cell_type": "markdown",
   "metadata": {},
   "source": [
    "Once job finishes execution on HPC, cybergis lib will retrieve the results back to notebook server. Each ensemble member will create a separate nc file, so there are 75 nc files in this case."
   ]
  },
  {
   "cell_type": "code",
   "execution_count": null,
   "metadata": {},
   "outputs": [],
   "source": [
    "# check output directory\n",
    "job_dir = os.path.join(workspace_dir, \"{}\".format(s.job_local_id))\n",
    "output_path = os.path.join(job_dir, \"output\")\n",
    "# check SUMMA output file \n",
    "name_list = os.listdir(output_path)\n",
    "full_list = [os.path.join(output_path,i) for i in name_list if i.endswith(\".nc\")]\n",
    "sorted_list = sorted(full_list)\n",
    "\n",
    "for f in sorted_list:\n",
    "    print(f)\n",
    "print(\"Number of NC files: {}\".format(len(sorted_list)))"
   ]
  },
  {
   "cell_type": "markdown",
   "metadata": {},
   "source": [
    "<a id='plot'></a>\n",
    "## Plot time series for total evapotranspiration (total ET)"
   ]
  },
  {
   "cell_type": "markdown",
   "metadata": {},
   "source": [
    "Here we define a functions that can read in a list of Summa output nc files, calculate Total evapotranspiration and plot it"
   ]
  },
  {
   "cell_type": "code",
   "execution_count": null,
   "metadata": {},
   "outputs": [],
   "source": [
    "%matplotlib inline\n",
    "import os\n",
    "import xarray as xr\n",
    "import pandas as pd\n",
    "import matplotlib.pyplot as plt\n",
    "from jupyterthemes import jtplot\n",
    "import seaborn as sns\n",
    "import numpy as np\n",
    "\n",
    "def calc_total_et(et_output_df):\n",
    "    # Total Evapotranspiration = Canopy Transpiration + Canopy Evaporation + Ground Evaporation\n",
    "    # Change unit from kgm-2s-1 to mm/hr (mulpitle 3600)\n",
    "    total_et_data = (et_output_df['scalarCanopyTranspiration'] + et_output_df['scalarCanopyEvaporation'] + et_output_df['scalarGroundEvaporation'])*3600\n",
    "    # create dates(X-axis) attribute from ouput netcdf\n",
    "    dates = total_et_data.coords['time'].data\n",
    "    # create data value(Y-axis) attribute from ouput netcdf\n",
    "    data_values = total_et_data.data\n",
    "    # create two dimensional tabular data structure \n",
    "    total_et_df = pd.DataFrame(data_values, index=dates)\n",
    "    # round time to nearest hour (ex. 2006-10-01T00:59:59.99 -> 2006-10-01T01:00:00)\n",
    "    total_et_df.index = total_et_df.index.round(\"H\")\n",
    "    # set the time period to display plot \n",
    "    total_et_df = total_et_df.loc[\"2006-07-01\":\"2007-08-20\"]\n",
    "    # resample data by the average value hourly\n",
    "    total_et_df_hourly = total_et_df.resample(\"H\").mean()\n",
    "    # resample data by the average for hour of day\n",
    "    total_et_by_hour = total_et_df_hourly.groupby(total_et_df_hourly.index.hour).mean()\n",
    "    return total_et_by_hour\n",
    "\n",
    "def plot_ET(nc_list):\n",
    "    \n",
    "    dataset_list = [calc_total_et(xr.open_dataset(nc)) for nc in nc_list]\n",
    "    ET_Combine = pd.concat(dataset_list, axis=1)\n",
    "    ET_Combine_Graph = ET_Combine.plot()\n",
    "    # invert y axis\n",
    "    ET_Combine_Graph.invert_yaxis()\n",
    "\n",
    "    # add x, y label\n",
    "    ET_Combine_Graph.set(xlabel='Time of day (hr)', ylabel='Total evapotranspiration (mm h-1) ')\n",
    "    # show up the legend\n",
    "    legend = []\n",
    "    for nc in nc_list:\n",
    "        legend.append(os.path.basename(nc))\n",
    "    ET_Combine_Graph.legend(legend, loc='center left', bbox_to_anchor=(1.0, 0.5))\n",
    "    jtplot.figsize(x=10, y=10)"
   ]
  },
  {
   "cell_type": "markdown",
   "metadata": {},
   "source": [
    "<a id='LAI'></a>\n",
    "### How do different  Leaf Area Index (summerLAI) values affect total ET?"
   ]
  },
  {
   "cell_type": "markdown",
   "metadata": {},
   "source": [
    "Here we only plot the ET results for different summaLAI by setting stomResist to BallBerry and rootDistExp=0.21"
   ]
  },
  {
   "cell_type": "code",
   "execution_count": null,
   "metadata": {},
   "outputs": [],
   "source": [
    "subset = [x for x in sorted_list if 'BallBerry++rootDistExp=0.21' in x]\n",
    "plot_ET(subset)"
   ]
  },
  {
   "cell_type": "markdown",
   "metadata": {},
   "source": [
    "<a id='stomatal'></a>\n",
    "### How do different  stomatal resistance parameterizations affect total ET?"
   ]
  },
  {
   "cell_type": "markdown",
   "metadata": {},
   "source": [
    "Here we only plot the ET results for different stomResist types by setting rootDistExp=0.21 and summerLAI to 4.01"
   ]
  },
  {
   "cell_type": "code",
   "execution_count": null,
   "metadata": {
    "scrolled": true
   },
   "outputs": [],
   "source": [
    "subset = [x for x in sorted_list if 'rootDistExp=0.21++summerLAI=4.01' in x]\n",
    "plot_ET(subset)"
   ]
  },
  {
   "cell_type": "markdown",
   "metadata": {},
   "source": [
    "<a id='cleanup'></a>\n",
    "## Cleanup"
   ]
  },
  {
   "cell_type": "markdown",
   "metadata": {},
   "source": [
    "This step is optional, which will remove all model outputs on notebook server"
   ]
  },
  {
   "cell_type": "code",
   "execution_count": null,
   "metadata": {},
   "outputs": [],
   "source": [
    "! rm -rvf {unzip_dir} {job_dir}"
   ]
  },
  {
   "cell_type": "markdown",
   "metadata": {},
   "source": [
    "# Done"
   ]
  }
 ],
 "metadata": {
  "kernelspec": {
   "display_name": "Hydro-Python3",
   "language": "python",
   "name": "hydro-py3"
  },
  "language_info": {
   "codemirror_mode": {
    "name": "ipython",
    "version": 3
   },
   "file_extension": ".py",
   "mimetype": "text/x-python",
   "name": "python",
   "nbconvert_exporter": "python",
   "pygments_lexer": "ipython3",
   "version": "3.7.6"
  }
 },
 "nbformat": 4,
 "nbformat_minor": 4
}
