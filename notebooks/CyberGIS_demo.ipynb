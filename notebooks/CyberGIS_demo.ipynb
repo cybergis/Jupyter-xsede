{
 "cells": [
  {
   "cell_type": "code",
   "execution_count": 1,
   "metadata": {},
   "outputs": [],
   "source": [
    "# # install latest CyberGIS library\n",
    "# !rm -rf /tmp/cybergis && \\\n",
    "#     rm -rf /opt/conda/envs/hydro-py3-new/lib/python3.7/site-packages/cybergis && \\\n",
    "#     git clone https://github.com/cybergis/Jupyter-xsede.git --branch general /tmp/cybergis && \\\n",
    "#     cp -r /tmp/cybergis/cybergis /opt/conda/envs/hydro-py3-new/lib/python3.7/site-packages && \\\n",
    "#     cd ~ && \\\n",
    "#     rm -rf /tmp/cybergis && \\\n",
    "#     rm -rf /home/jovyan/work/Downloads/1f3f310af8364d2aa3e6a9459152a21c && \\\n",
    "#     cd /home/jovyan/work/workspace/ && rm -rf * && \\\n",
    "#     echo CyberGIS installed. Please restart Kernel."
   ]
  },
  {
   "cell_type": "code",
   "execution_count": 1,
   "metadata": {},
   "outputs": [
    {
     "name": "stderr",
     "output_type": "stream",
     "text": [
      "/Users/zhiyul/miniconda3/envs/cbgis_py3/lib/python3.7/site-packages/xarray/core/merge.py:17: FutureWarning: The Panel class is removed from pandas. Accessing it from the top-level namespace will also be removed in the next version\n",
      "  PANDAS_TYPES = (pd.Series, pd.DataFrame, pd.Panel)\n"
     ]
    }
   ],
   "source": [
    "import os\n",
    "import sys\n",
    "import logging\n",
    "os.environ[\"USER\"]=\"\"\n",
    "from cybergis.general import *\n",
    "logger.setLevel(logging.INFO)"
   ]
  },
  {
   "cell_type": "markdown",
   "metadata": {},
   "source": [
    "### Unzip model package"
   ]
  },
  {
   "cell_type": "code",
   "execution_count": 2,
   "metadata": {},
   "outputs": [],
   "source": [
    "\n",
    "#Unzip model file\n",
    "model_folder_name = \"SummaModel_ReynoldsAspenStand_StomatalResistance_sopron\"\n",
    "#instance = utils.download_model_instance(resource_id)\n",
    "model_source_folder_path = os.path.abspath (model_folder_name)\n",
    "file_manger_rel_path = \"settings/summa_fileManager_riparianAspenSimpleResistance.txt\""
   ]
  },
  {
   "cell_type": "markdown",
   "metadata": {},
   "source": [
    "### \"Install\" the model on Jupyter server (fix broken path in summa file_manager)"
   ]
  },
  {
   "cell_type": "code",
   "execution_count": 3,
   "metadata": {},
   "outputs": [
    {
     "name": "stdout",
     "output_type": "stream",
     "text": [
      "TestCases installed\r\n"
     ]
    }
   ],
   "source": [
    "\n",
    "!cd {model_source_folder_path} && chmod +x ./installTestCases_local.sh\n",
    "!cd {model_source_folder_path} && ./installTestCases_local.sh"
   ]
  },
  {
   "cell_type": "markdown",
   "metadata": {},
   "source": [
    "### Use PySumma to configure model parameters"
   ]
  },
  {
   "cell_type": "code",
   "execution_count": 4,
   "metadata": {
    "scrolled": true
   },
   "outputs": [],
   "source": [
    "from pysumma import Simulation\n",
    "\n",
    "# path to the SUMMA filemanager file\n",
    "file_manager = os.path.join(model_source_folder_path, file_manger_rel_path)\n",
    "\n",
    "# Create pySUMMA Simulation Object\n",
    "executable = \"\"\n",
    "S = Simulation(executable, file_manager)\n",
    "#print(S)\n",
    "S.decisions['simulStart'].value = \"2006-07-01 00:00\"\n",
    "S.decisions['simulFinsh'].value = \"2007-08-20 00:00\"\n",
    "S.decisions['stomResist'].value = 'BallBerry'\n",
    "S._write_configuration() # save configiuration to disk"
   ]
  },
  {
   "cell_type": "markdown",
   "metadata": {},
   "source": [
    "### Submit model to HPC resources using CyberGIS-Jupyter tool"
   ]
  },
  {
   "cell_type": "code",
   "execution_count": 11,
   "metadata": {},
   "outputs": [],
   "source": [
    "from cybergis.general import summaUI\n",
    "local_workspace_path = os.path.abspath(\"./workspace\")\n",
    "! mkdir -p {local_workspace_path}\n",
    "private_key=os.path.abspath(\"./keeling.key\")\n",
    "s = summaUI(model_source_folder_path, file_manger_rel_path, local_workspace_path, private_key_path=private_key)"
   ]
  },
  {
   "cell_type": "code",
   "execution_count": 12,
   "metadata": {},
   "outputs": [
    {
     "data": {
      "application/vnd.jupyter.widget-view+json": {
       "model_id": "398b4e2074244d0d95693cc322df3e3c",
       "version_major": 2,
       "version_minor": 0
      },
      "text/plain": [
       "VBox(children=(Box(children=(HTML(value='<h1>Welcome to Summa General Case</h1>'),), layout=Layout(align_items…"
      ]
     },
     "metadata": {},
     "output_type": "display_data"
    },
    {
     "name": "stderr",
     "output_type": "stream",
     "text": [
      "2019-10-10 15:54:21,151 summaUI Obj: 13491587152\n",
      "2019-10-10 15:54:21,152 btn obj: 13487938064\n",
      "2019-10-10 15:54:21,203 SSH logged into keeling.earth.illinois.edu as user cigi-gisolve\n",
      "2019-10-10 15:54:21,207 Uploading /Users/zhiyul/Documents/Projects/summa/workspace/Summa_1570740861_36e44f7c to /data/keeling/a/cigi-gisolve\n",
      "2019-10-10 15:54:24,610 Submitting Job sbatch.sh to queue\n",
      "2019-10-10 15:54:29,006 R\n",
      "2019-10-10 15:54:32,693 R\n",
      "2019-10-10 15:54:41,385 R\n",
      "2019-10-10 15:54:45,022 Job completed: Summa_1570740861_36e44f7c; 3148563\n",
      "2019-10-10 15:54:45,024 Downloading /data/keeling/a/cigi-gisolve/Summa_1570740861_36e44f7c/SummaModel_ReynoldsAspenStand_StomatalResistance_sopron/output to /Users/zhiyul/Documents/Projects/summa/workspace/Summa_1570740861_36e44f7c\n",
      "2019-10-10 15:54:47,318 Downloading /data/keeling/a/cigi-gisolve/Summa_1570740861_36e44f7c/SummaModel_ReynoldsAspenStand_StomatalResistance_sopron/slurm-3148563.out to /Users/zhiyul/Documents/Projects/summa/workspace/Summa_1570740861_36e44f7c\n",
      "2019-10-10 15:54:47,339 Done\n",
      "2019-10-10 15:54:47,340 summaUI Obj: 13528773840\n",
      "2019-10-10 15:54:47,341 btn obj: 13487938064\n",
      "2019-10-10 15:54:47,391 SSH logged into keeling.earth.illinois.edu as user cigi-gisolve\n",
      "2019-10-10 15:54:47,393 Uploading /Users/zhiyul/Documents/Projects/summa/workspace/Summa_1570740887_77644a37 to /data/keeling/a/cigi-gisolve\n",
      "2019-10-10 15:54:50,536 Submitting Job sbatch.sh to queue\n",
      "2019-10-10 15:54:54,766 R\n",
      "2019-10-10 15:54:58,468 R\n"
     ]
    }
   ],
   "source": [
    "s.runSumma()"
   ]
  },
  {
   "cell_type": "markdown",
   "metadata": {},
   "source": [
    "### Visualization"
   ]
  },
  {
   "cell_type": "code",
   "execution_count": 10,
   "metadata": {},
   "outputs": [],
   "source": [
    "s= None"
   ]
  },
  {
   "cell_type": "code",
   "execution_count": null,
   "metadata": {},
   "outputs": [],
   "source": [
    "summa_output = os.path.join(local_workspace_path, \n",
    "                            \"{}/output\".format(s.job_local_id), \n",
    "                            \"vegImpactsTranspire_output_test_timestep.nc\")\n",
    "\n"
   ]
  },
  {
   "cell_type": "code",
   "execution_count": null,
   "metadata": {},
   "outputs": [],
   "source": [
    "import xarray as xr\n",
    "output_info = xr.open_dataset(summa_output)\n",
    "output_info"
   ]
  },
  {
   "cell_type": "code",
   "execution_count": null,
   "metadata": {},
   "outputs": [],
   "source": [
    "import matplotlib.pyplot as plt\n",
    "x = output_info['time']\n",
    "y = (output_info['scalarCanopyTranspiration'] + \\\n",
    "     output_info['scalarCanopyEvaporation'] + \\\n",
    "     output_info['scalarGroundEvaporation'])*3600\n",
    "\n",
    "plt.figure(figsize=(15, 5))\n",
    "plt.plot(x, y, color='grey', linestyle='solid', markersize=0)\n",
    "\n",
    "    # Get the current axis of the plot and\n",
    "    # set the x and y-axis labels\n",
    "ax = plt.gca()\n",
    "ax.set_ylabel(\"Total ET (kg m-2 h-1)\")\n",
    "ax.set_xlabel('Date')\n",
    "ax.grid(True)\n",
    "\n",
    "ax.set_title('SUMMA Plot for Total ET')\n",
    "output_info.close()"
   ]
  },
  {
   "cell_type": "code",
   "execution_count": null,
   "metadata": {},
   "outputs": [],
   "source": []
  },
  {
   "cell_type": "code",
   "execution_count": null,
   "metadata": {},
   "outputs": [],
   "source": []
  }
 ],
 "metadata": {
  "kernelspec": {
   "display_name": "Python 3",
   "language": "python",
   "name": "python3"
  },
  "language_info": {
   "codemirror_mode": {
    "name": "ipython",
    "version": 3
   },
   "file_extension": ".py",
   "mimetype": "text/x-python",
   "name": "python",
   "nbconvert_exporter": "python",
   "pygments_lexer": "ipython3",
   "version": "3.7.4"
  }
 },
 "nbformat": 4,
 "nbformat_minor": 2
}
