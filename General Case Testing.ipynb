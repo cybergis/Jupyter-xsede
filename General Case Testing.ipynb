{
 "cells": [
  {
   "cell_type": "code",
   "execution_count": 1,
   "metadata": {},
   "outputs": [],
   "source": [
    "import pysumma as ps\n",
    "import pysumma.hydroshare_utils as utils\n",
    "from hs_restclient import HydroShare\n",
    "import shutil, os\n",
    "import subprocess"
   ]
  },
  {
   "cell_type": "code",
   "execution_count": 3,
   "metadata": {},
   "outputs": [
    {
     "name": "stdout",
     "output_type": "stream",
     "text": [
      "Username: carnivalbug\n",
      "Password for carnivalbug: ········\n"
     ]
    },
    {
     "data": {
      "text/plain": [
       "'SummaModel_ReynoldsAspenStand_StomatalResistance_sopron'"
      ]
     },
     "execution_count": 3,
     "metadata": {},
     "output_type": "execute_result"
    }
   ],
   "source": [
    "resource_id = '1f3f310af8364d2aa3e6a9459152a21c'\n",
    "instance = utils.download_model_instance(resource_id)\n",
    "instance"
   ]
  },
  {
   "cell_type": "code",
   "execution_count": 4,
   "metadata": {},
   "outputs": [
    {
     "name": "stdout",
     "output_type": "stream",
     "text": [
      "TestCases installed\r\n"
     ]
    }
   ],
   "source": [
    "!cd SummaModel_ReynoldsAspenStand_StomatalResistance_sopron/; chmod +x ./installTestCases_local.sh\n",
    "!cd SummaModel_ReynoldsAspenStand_StomatalResistance_sopron/; ./installTestCases_local.sh"
   ]
  },
  {
   "cell_type": "code",
   "execution_count": 1,
   "metadata": {},
   "outputs": [],
   "source": [
    "import netCDF4 as nc\n",
    "name = 'SummaModel_ReynoldsAspenStand_StomatalResistance_sopron/settings/summa_zParamTrial_riparianAspen.nc'\n",
    "param_trial = nc.Dataset(name, \"w\", format=\"NETCDF3_CLASSIC\")\n",
    "param_trial.createDimension(\"hru\", 1)\n",
    "param_trial.close()"
   ]
  },
  {
   "cell_type": "code",
   "execution_count": 2,
   "metadata": {},
   "outputs": [
    {
     "data": {
      "text/plain": [
       "'/Users/CarnivalBug/general_summa/Jupyter-xsede'"
      ]
     },
     "execution_count": 2,
     "metadata": {},
     "output_type": "execute_result"
    }
   ],
   "source": [
    "os.getcwd()"
   ]
  },
  {
   "cell_type": "code",
   "execution_count": 3,
   "metadata": {},
   "outputs": [],
   "source": [
    "## For testing here\n",
    "instance='SummaModel_ReynoldsAspenStand_StomatalResistance_sopron'\n",
    "## instance"
   ]
  },
  {
   "cell_type": "code",
   "execution_count": 4,
   "metadata": {},
   "outputs": [],
   "source": [
    "folder_path = os.getcwd()+\"/\"+instance"
   ]
  },
  {
   "cell_type": "code",
   "execution_count": 5,
   "metadata": {},
   "outputs": [
    {
     "data": {
      "text/plain": [
       "'/Users/CarnivalBug/general_summa/Jupyter-xsede/SummaModel_ReynoldsAspenStand_StomatalResistance_sopron'"
      ]
     },
     "execution_count": 5,
     "metadata": {},
     "output_type": "execute_result"
    }
   ],
   "source": [
    "folder_path"
   ]
  },
  {
   "cell_type": "code",
   "execution_count": 6,
   "metadata": {},
   "outputs": [],
   "source": [
    "import cybergis"
   ]
  },
  {
   "cell_type": "code",
   "execution_count": 7,
   "metadata": {},
   "outputs": [],
   "source": [
    "sbscript = cybergis.SummaKeelingSBatchScript(walltime=\"12:00:00\", node=12, jobname=\"Test\", userscript_path=folder_path)"
   ]
  },
  {
   "cell_type": "code",
   "execution_count": 8,
   "metadata": {},
   "outputs": [
    {
     "name": "stderr",
     "output_type": "stream",
     "text": [
      "2019-09-25 15:27:19,728 [MainThread  ] [DEBUG]  \n",
      "#!/bin/bash\n",
      "#SBATCH --job-name=Test\n",
      "#SBATCH --nodes=12\n",
      "#SBATCH -t 12:00:00\n",
      "\n",
      "singularity exec /data/keeling/a/zhiyul/images/pysumma_ensemble.img /Users/CarnivalBug/general_summa/Jupyter-xsede/SummaModel_ReynoldsAspenStand_StomatalResistance_sopron/run.py\n",
      "2019-09-25 15:27:19,728 \n",
      "#!/bin/bash\n",
      "#SBATCH --job-name=Test\n",
      "#SBATCH --nodes=12\n",
      "#SBATCH -t 12:00:00\n",
      "\n",
      "singularity exec /data/keeling/a/zhiyul/images/pysumma_ensemble.img /Users/CarnivalBug/general_summa/Jupyter-xsede/SummaModel_ReynoldsAspenStand_StomatalResistance_sopron/run.py\n",
      "2019-09-25 15:27:19,732 [MainThread  ] [DEBUG]  KeelingSBatchScript saved to /Users/CarnivalBug/general_summa/Jupyter-xsede/SummaModel_ReynoldsAspenStand_StomatalResistance_sopron/sbatch.sh\n",
      "2019-09-25 15:27:19,732 KeelingSBatchScript saved to /Users/CarnivalBug/general_summa/Jupyter-xsede/SummaModel_ReynoldsAspenStand_StomatalResistance_sopron/sbatch.sh\n"
     ]
    }
   ],
   "source": [
    "sbscript.generate_script(local_path=folder_path)"
   ]
  },
  {
   "cell_type": "code",
   "execution_count": 7,
   "metadata": {},
   "outputs": [],
   "source": [
    "userscript=cybergis.SummaUserScript(local_path=os.getcwd(), instance_name=instance, file_manager_name=\"summa_fileManager_riparianAspenSimpleResistance.txt\")"
   ]
  },
  {
   "cell_type": "code",
   "execution_count": 8,
   "metadata": {},
   "outputs": [
    {
     "name": "stderr",
     "output_type": "stream",
     "text": [
      "2019-09-25 16:00:32,823 [MainThread  ] [DEBUG]  \n",
      "import pysumma as ps\n",
      "import pysumma.hydroshare_utils as utils\n",
      "from hs_restclient import HydroShare\n",
      "import shutil, os\n",
      "import subprocess\n",
      "from ipyleaflet import Map, GeoJSON\n",
      "import json\n",
      "\n",
      "os.chdir(\"/Users/CarnivalBug/general_summa/Jupyter-xsede\")\n",
      "instance = 'SummaModel_ReynoldsAspenStand_StomatalResistance_sopron'\n",
      "\n",
      "file_manager = os.getcwd() + '/' + instance + '/settings/summa_fileManager_riparianAspenSimpleResistance.txt'\n",
      "executable = \"/code/bin/summa.exe\"\n",
      "\n",
      "S = ps.Simulation(executable, file_manager)\n",
      "\n",
      "\n",
      "S.run('local', run_suffix='_test')\n",
      "\n",
      "\n",
      "2019-09-25 16:00:32,823 \n",
      "import pysumma as ps\n",
      "import pysumma.hydroshare_utils as utils\n",
      "from hs_restclient import HydroShare\n",
      "import shutil, os\n",
      "import subprocess\n",
      "from ipyleaflet import Map, GeoJSON\n",
      "import json\n",
      "\n",
      "os.chdir(\"/Users/CarnivalBug/general_summa/Jupyter-xsede\")\n",
      "instance = 'SummaModel_ReynoldsAspenStand_StomatalResistance_sopron'\n",
      "\n",
      "file_manager = os.getcwd() + '/' + instance + '/settings/summa_fileManager_riparianAspenSimpleResistance.txt'\n",
      "executable = \"/code/bin/summa.exe\"\n",
      "\n",
      "S = ps.Simulation(executable, file_manager)\n",
      "\n",
      "\n",
      "S.run('local', run_suffix='_test')\n",
      "\n",
      "\n"
     ]
    }
   ],
   "source": [
    "userscript.generate_script(local_folder_path=folder_path)"
   ]
  },
  {
   "cell_type": "code",
   "execution_count": null,
   "metadata": {},
   "outputs": [],
   "source": []
  }
 ],
 "metadata": {
  "kernelspec": {
   "display_name": "Python 3",
   "language": "python",
   "name": "python3"
  },
  "language_info": {
   "codemirror_mode": {
    "name": "ipython",
    "version": 3
   },
   "file_extension": ".py",
   "mimetype": "text/x-python",
   "name": "python",
   "nbconvert_exporter": "python",
   "pygments_lexer": "ipython3",
   "version": "3.7.3"
  }
 },
 "nbformat": 4,
 "nbformat_minor": 2
}
